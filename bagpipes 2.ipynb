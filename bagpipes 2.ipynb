{
 "cells": [
  {
   "cell_type": "code",
   "execution_count": 2,
   "metadata": {},
   "outputs": [],
   "source": [
    "import numpy as np\n",
    "import matplotlib.pyplot as plt\n",
    "from astropy.io import fits\n",
    "import pandas as pd\n",
    "import bagpipes as pipes\n",
    "from astropy.table import Table\n",
    "import os\n",
    "import random"
   ]
  },
  {
   "cell_type": "code",
   "execution_count": 3,
   "metadata": {},
   "outputs": [],
   "source": [
    "#file = 'NSF1_match_ELG.fits'"
   ]
  },
  {
   "cell_type": "markdown",
   "metadata": {},
   "source": [
    "# Function"
   ]
  },
  {
   "cell_type": "code",
   "execution_count": 25,
   "metadata": {},
   "outputs": [],
   "source": [
    "def load_data(ID):\n",
    "    \"\"\" Load Catalog \"\"\"\n",
    "    \n",
    "\n",
    "    # load up the the catalogue in FITS.\n",
    "    table = Table.read(file)\n",
    "    #table = pd.read_csv('crossmatch_GALEX_Halpha.csv')\n",
    "    \n",
    "    # The ID is the object we wanna fit.\n",
    "    row = int(ID) #ID \n",
    "\n",
    "    # Extract the filters we want from the catalogue.\n",
    "    #2 is the aperture, can be changed\n",
    "    n = 2\n",
    "\n",
    "    fluxes = np.array([table['nuv_flux'][row],\n",
    "                     table['FLUX_APER_g_1'][row][n], \n",
    "                     table['FLUX_APER_r_1'][row][n],\n",
    "                     table['FLUX_APER_i_1'][row][n],\n",
    "                     table['FLUX_APER_z_1'][row][n],\n",
    "                     #table['FLUX_APER'][row][n],\n",
    "                     table['FLUX_APER_y_1'][row][n]]) \n",
    "                                                   \n",
    "    fluxerrs = np.array([table['nuv_fluxerr'][row],\n",
    "                     table['FLUXERR_APER_g_1'][row][n], \n",
    "                     table['FLUXERR_APER_r_1'][row][n],\n",
    "                     table['FLUXERR_APER_i_1'][row][n],\n",
    "                     table['FLUXERR_APER_z_1'][row][n],\n",
    "                     #table['FLUXERR_APER'][row][n],\n",
    "                     table['FLUXERR_APER_y_1'][row][n]])\n",
    "    \n",
    "    # Turn these into a 2D array.\n",
    "    photometry = np.c_[fluxes, fluxerrs]\n",
    "\n",
    "    # blow up the errors associated with any missing fluxes.\n",
    "#     for i in range(len(photometry)):\n",
    "#         if (photometry[i, 0] == 0.) or (photometry[i, 1] <= 0):\n",
    "#             photometry[i,:] = [0., 9.9*10**99.]\n",
    "            \n",
    "        \n",
    "\n",
    "    return photometry"
   ]
  },
  {
   "cell_type": "markdown",
   "metadata": {},
   "source": [
    "# Filters"
   ]
  },
  {
   "cell_type": "code",
   "execution_count": 18,
   "metadata": {},
   "outputs": [],
   "source": [
    "DECAM_filt_list = [\"filters/GALEX_GALEX.NUV.dat\",\n",
    "                    \"filters/CTIO_DECam.g.dat\",\n",
    "                    \"filters/CTIO_DECam.r.dat\",\n",
    "                    \"filters/CTIO_DECam.i.dat\",\n",
    "                    \"filters/CTIO_DECam.z.dat\",\n",
    "                    #\"filters/NB640_FilterResponse.dat\",\n",
    "                    \"filters/CTIO_DECam.Y.dat\"]\n",
    "\n",
    "#\"filters/NB640_FilterResponse.dat\","
   ]
  },
  {
   "cell_type": "markdown",
   "metadata": {},
   "source": [
    "# Fitting Galaxy"
   ]
  },
  {
   "cell_type": "code",
   "execution_count": 19,
   "metadata": {},
   "outputs": [],
   "source": [
    "# table = Table.read('NSF1_redshift.fits')\n",
    "# #table"
   ]
  },
  {
   "cell_type": "code",
   "execution_count": 20,
   "metadata": {},
   "outputs": [],
   "source": [
    "# mask3 =  (1.3 < table['redshift_50']) & (table['redshift_50'] < 1.9)\n",
    "# table[mask3][18]"
   ]
  },
  {
   "cell_type": "code",
   "execution_count": 21,
   "metadata": {
    "code_folding": []
   },
   "outputs": [],
   "source": [
    "id_gal = \"0\""
   ]
  },
  {
   "cell_type": "code",
   "execution_count": 22,
   "metadata": {},
   "outputs": [
    {
     "ename": "TypeError",
     "evalue": "ufunc 'square' not supported for the input types, and the inputs could not be safely coerced to any supported types according to the casting rule ''safe''",
     "output_type": "error",
     "traceback": [
      "\u001b[0;31m---------------------------------------------------------------------------\u001b[0m",
      "\u001b[0;31mTypeError\u001b[0m                                 Traceback (most recent call last)",
      "\u001b[0;32m<ipython-input-22-43e5d7ea3301>\u001b[0m in \u001b[0;36m<module>\u001b[0;34m\u001b[0m\n\u001b[1;32m      1\u001b[0m galaxy = pipes.galaxy(\n\u001b[0;32m----> 2\u001b[0;31m     id_gal, load_data, spectrum_exists=False, filt_list=DECAM_filt_list)\n\u001b[0m\u001b[1;32m      3\u001b[0m \u001b[0mfig\u001b[0m \u001b[0;34m=\u001b[0m \u001b[0mgalaxy\u001b[0m\u001b[0;34m.\u001b[0m\u001b[0mplot\u001b[0m\u001b[0;34m(\u001b[0m\u001b[0;34m)\u001b[0m\u001b[0;34m\u001b[0m\u001b[0;34m\u001b[0m\u001b[0m\n",
      "\u001b[0;32m~/anaconda3/lib/python3.7/site-packages/bagpipes/input/galaxy.py\u001b[0m in \u001b[0;36m__init__\u001b[0;34m(self, ID, load_data, spec_units, phot_units, spectrum_exists, photometry_exists, filt_list, out_units, load_indices, index_list, index_redshift, input_spec_cov_matrix)\u001b[0m\n\u001b[1;32m    128\u001b[0m \u001b[0;34m\u001b[0m\u001b[0m\n\u001b[1;32m    129\u001b[0m         \u001b[0;31m# Perform any unit conversions.\u001b[0m\u001b[0;34m\u001b[0m\u001b[0;34m\u001b[0m\u001b[0;34m\u001b[0m\u001b[0m\n\u001b[0;32m--> 130\u001b[0;31m         \u001b[0mself\u001b[0m\u001b[0;34m.\u001b[0m\u001b[0m_convert_units\u001b[0m\u001b[0;34m(\u001b[0m\u001b[0;34m)\u001b[0m\u001b[0;34m\u001b[0m\u001b[0;34m\u001b[0m\u001b[0m\n\u001b[0m\u001b[1;32m    131\u001b[0m \u001b[0;34m\u001b[0m\u001b[0m\n\u001b[1;32m    132\u001b[0m         \u001b[0;31m# Mask the regions of the spectrum specified in masks/[ID].mask\u001b[0m\u001b[0;34m\u001b[0m\u001b[0;34m\u001b[0m\u001b[0;34m\u001b[0m\u001b[0m\n",
      "\u001b[0;32m~/anaconda3/lib/python3.7/site-packages/bagpipes/input/galaxy.py\u001b[0m in \u001b[0;36m_convert_units\u001b[0;34m(self)\u001b[0m\n\u001b[1;32m    190\u001b[0m \u001b[0;34m\u001b[0m\u001b[0m\n\u001b[1;32m    191\u001b[0m         \u001b[0;32mif\u001b[0m \u001b[0mself\u001b[0m\u001b[0;34m.\u001b[0m\u001b[0mphotometry_exists\u001b[0m\u001b[0;34m:\u001b[0m\u001b[0;34m\u001b[0m\u001b[0;34m\u001b[0m\u001b[0m\n\u001b[0;32m--> 192\u001b[0;31m             \u001b[0mconversion\u001b[0m \u001b[0;34m=\u001b[0m \u001b[0;36m10\u001b[0m\u001b[0;34m**\u001b[0m\u001b[0;34m-\u001b[0m\u001b[0;36m29\u001b[0m\u001b[0;34m*\u001b[0m\u001b[0;36m2.9979\u001b[0m\u001b[0;34m*\u001b[0m\u001b[0;36m10\u001b[0m\u001b[0;34m**\u001b[0m\u001b[0;36m18\u001b[0m\u001b[0;34m/\u001b[0m\u001b[0mself\u001b[0m\u001b[0;34m.\u001b[0m\u001b[0mphotometry\u001b[0m\u001b[0;34m[\u001b[0m\u001b[0;34m:\u001b[0m\u001b[0;34m,\u001b[0m \u001b[0;36m0\u001b[0m\u001b[0;34m]\u001b[0m\u001b[0;34m**\u001b[0m\u001b[0;36m2\u001b[0m\u001b[0;34m\u001b[0m\u001b[0;34m\u001b[0m\u001b[0m\n\u001b[0m\u001b[1;32m    193\u001b[0m \u001b[0;34m\u001b[0m\u001b[0m\n\u001b[1;32m    194\u001b[0m             \u001b[0;32mif\u001b[0m \u001b[0;32mnot\u001b[0m \u001b[0mself\u001b[0m\u001b[0;34m.\u001b[0m\u001b[0mphot_units\u001b[0m \u001b[0;34m==\u001b[0m \u001b[0mself\u001b[0m\u001b[0;34m.\u001b[0m\u001b[0mout_units\u001b[0m\u001b[0;34m:\u001b[0m\u001b[0;34m\u001b[0m\u001b[0;34m\u001b[0m\u001b[0m\n",
      "\u001b[0;31mTypeError\u001b[0m: ufunc 'square' not supported for the input types, and the inputs could not be safely coerced to any supported types according to the casting rule ''safe''"
     ]
    }
   ],
   "source": [
    "galaxy = pipes.galaxy(\n",
    "    id_gal, load_data, spectrum_exists=False, filt_list=DECAM_filt_list)\n",
    "fig = galaxy.plot()"
   ]
  },
  {
   "cell_type": "code",
   "execution_count": 23,
   "metadata": {},
   "outputs": [],
   "source": [
    "burst = {}\n",
    "burst[\"age\"] = (0., 15.)                  # Vary age from 0 to 15 Gyr\n",
    "burst[\"metallicity\"] =  (0., 2.5)          # Vary metallicity from 0 to 2.5 Solar\n",
    "burst[\"massformed\"] = (0., 13.) \n",
    "# Vary log_10(mass formed) from 0 to 13\n",
    "nebular = {}\n",
    "nebular[\"logU\"] = -3\n",
    "\n",
    "\n",
    "fit_instructions = {}\n",
    "fit_instructions[\"burst\"] = burst   # Add the burst sfh component to the fit7\n",
    "fit_instructions['nebular'] = nebular\n",
    "#fit_instructions[\"redshift\"] = (0.,3.)\n",
    "\n",
    "fit_instructions[\"redshift\"] = (0., 3.)\n",
    "# fit_instructions[\"redshift_prior\"] = \"Gaussian\"\n",
    "# fit_instructions[\"redshift_prior_mu\"] = 0.47\n",
    "# fit_instructions[\"redshift_prior_sigma\"] = 0.2"
   ]
  },
  {
   "cell_type": "code",
   "execution_count": 11,
   "metadata": {
    "code_folding": [
     0
    ]
   },
   "outputs": [],
   "source": [
    "# dblplaw = {}                        \n",
    "# dblplaw[\"tau\"] = (0., 15.)                # Vary the time of peak star-formation between\n",
    "#                                           # the Big Bang at 0 Gyr and 15 Gyr later. In \n",
    "#                                           # practice the code automatically stops this\n",
    "#                                           # exceeding the age of the universe at the \n",
    "#                                           # observed redshift.\n",
    "            \n",
    "# dblplaw[\"alpha\"] = (0.01, 1000.)          # Vary the falling power law slope from 0.01 to 1000.\n",
    "# dblplaw[\"beta\"] = (0.01, 1000.)           # Vary the rising power law slope from 0.01 to 1000.\n",
    "# dblplaw[\"alpha_prior\"] = \"log_10\"         # Impose a prior which is uniform in log_10 of the \n",
    "# dblplaw[\"beta_prior\"] = \"log_10\"          # parameter betweenthe limits which have been set \n",
    "#                                           # above as in Carnall et al. (2017).\n",
    "# dblplaw[\"massformed\"] = (1., 15.)\n",
    "# dblplaw[\"metallicity\"] = (0.1, 2.5)\n",
    "# dblplaw[\"metallicity_prior\"] = \"log_10\"\n",
    "\n",
    "# dust = {}\n",
    "# dust[\"type\"] = \"CF00\"\n",
    "# dust[\"eta\"] = 2.\n",
    "# dust[\"Av\"] = (0., 2.0)\n",
    "# dust[\"n\"] = (0.3, 2.5)\n",
    "# dust[\"n_prior\"] = \"Gaussian\"\n",
    "# dust[\"n_prior_mu\"] = 0.7\n",
    "# dust[\"n_prior_sigma\"] = 0.3\n",
    "\n",
    "# dust = {}                           \n",
    "# dust[\"type\"] = \"Calzetti\"\n",
    "# dust[\"Av\"] = (0., 2.)\n",
    "\n",
    "# nebular = {}\n",
    "# nebular[\"logU\"] = -3.\n",
    "\n",
    "# fit_info = {}                            # The fit instructions dictionary\n",
    "# fit_info[\"redshift\"] = (0, 5)         # Vary observed redshift from 0 to 10\n",
    "\n",
    "# #fit_info[\"redshift_prior\"] = \"Gaussian\"  # From looking at the spectrum in Example 2 it's\n",
    "# #fit_info[\"redshift_prior_mu\"] = 0.77082   # clear that this  object is at around z = 1. We'll \n",
    "# #fit_info[\"redshift_prior_sigma\"] = 0.0005 # include that information with a broad Gaussian\n",
    "#                                          # prior centred on redshift 1. Parameters of priors\n",
    "#                                          # are passed starting with \"parameter_prior_\".\n",
    "\n",
    "\n",
    "# # fit_info[\"veldisp\"] = (50., 70.)   #km/s\n",
    "# # fit_info[\"veldisp_prior\"] = \"log_10\"\n",
    "\n",
    "# fit_info[\"dblplaw\"] = dblplaw \n",
    "# fit_info[\"dust\"] = dust\n",
    "# #fit_info[\"nebular\"] = nebular\n",
    "\n",
    "# # calib = {}\n",
    "# # calib[\"type\"] = \"polynomial_bayesian\"\n",
    "\n",
    "# # calib[\"0\"] = (0.5, 1.5) # Zero order is centred on 1, at which point there is no change to the spectrum.\n",
    "# # calib[\"0_prior\"] = \"Gaussian\"\n",
    "# # calib[\"0_prior_mu\"] = 1.0\n",
    "# # calib[\"0_prior_sigma\"] = 0.25\n",
    "\n",
    "# # calib[\"1\"] = (-0.5, 0.5) # Subsequent orders are centred on zero.\n",
    "# # calib[\"1_prior\"] = \"Gaussian\"\n",
    "# # calib[\"1_prior_mu\"] = 0.\n",
    "# # calib[\"1_prior_sigma\"] = 0.25\n",
    "\n",
    "# # calib[\"2\"] = (-0.5, 0.5)\n",
    "# # calib[\"2_prior\"] = \"Gaussian\"\n",
    "# # calib[\"2_prior_mu\"] = 0.\n",
    "# # calib[\"2_prior_sigma\"] = 0.25\n",
    "\n",
    "# # fit_info[\"calib\"] = calib\n",
    "\n",
    "# # mlpoly = {}\n",
    "# # mlpoly[\"type\"] = \"polynomial_max_like\"\n",
    "# # mlpoly[\"order\"] = 2\n",
    "\n",
    "# noise = {}\n",
    "# noise[\"type\"] = \"white_scaled\"\n",
    "# noise[\"scaling\"] = (1., 10.)\n",
    "# noise[\"scaling_prior\"] = \"log_10\"\n",
    "# fit_info[\"noise\"] = noise"
   ]
  },
  {
   "cell_type": "code",
   "execution_count": 12,
   "metadata": {},
   "outputs": [
    {
     "name": "stdout",
     "output_type": "stream",
     "text": [
      "\n",
      "Bagpipes: fitting object 63\n",
      "\n",
      "\n",
      "Completed in 53.4 seconds.\n",
      "\n",
      "Parameter                          Posterior percentiles\n",
      "                                16th       50th       84th\n",
      "----------------------------------------------------------\n",
      "burst:age                      0.359      0.410      0.474\n",
      "burst:massformed              11.193     11.269     11.351\n",
      "burst:metallicity              0.100      0.401      1.354\n",
      "redshift                       1.642      1.691      1.788\n",
      "\n",
      "\n",
      "CPU times: user 53.4 s, sys: 124 ms, total: 53.5 s\n",
      "Wall time: 53.5 s\n"
     ]
    },
    {
     "name": "stderr",
     "output_type": "stream",
     "text": [
      "/home/pvfort/anaconda3/lib/python3.7/site-packages/bagpipes/models/star_formation_history.py:131: RuntimeWarning: divide by zero encountered in log10\n",
      "  self.ssfr = np.log10(self.sfr) - self.stellar_mass\n",
      "/home/pvfort/anaconda3/lib/python3.7/site-packages/bagpipes/models/star_formation_history.py:132: RuntimeWarning: divide by zero encountered in log10\n",
      "  self.nsfr = np.log10(self.sfr*self.age_of_universe) - self.formed_mass\n"
     ]
    }
   ],
   "source": [
    "%%time\n",
    "\n",
    "#os.remove('pipes/posterior/3582.h5')\n",
    "fit = pipes.fit(galaxy, fit_instructions)\n",
    "\n",
    "fit.fit(verbose=False)"
   ]
  },
  {
   "cell_type": "code",
   "execution_count": 13,
   "metadata": {},
   "outputs": [
    {
     "data": {
      "image/png": "[encoded data removed]",
      "text/plain": [
       "<Figure size 864x288 with 1 Axes>"
      ]
     },
     "metadata": {
      "needs_background": "light"
     },
     "output_type": "display_data"
    }
   ],
   "source": [
    "fig = fit.plot_spectrum_posterior(show=True, save=False)"
   ]
  },
  {
   "cell_type": "markdown",
   "metadata": {},
   "source": [
    "# Fitting catalog"
   ]
  },
  {
   "cell_type": "code",
   "execution_count": 7,
   "metadata": {},
   "outputs": [
    {
     "name": "stderr",
     "output_type": "stream",
     "text": [
      "WARNING: VerifyWarning: It is strongly recommended that column names contain only upper and lower-case ASCII letters, digits, or underscores for maximum compatibility with other software (got '#ID'). [astropy.io.fits.column]\n"
     ]
    }
   ],
   "source": []
  },
  {
   "cell_type": "code",
   "execution_count": null,
   "metadata": {},
   "outputs": [],
   "source": []
  },
  {
   "cell_type": "code",
   "execution_count": 8,
   "metadata": {
    "scrolled": true
   },
   "outputs": [],
   "source": [
    "# IDs = np.arange(3000,len(table)+1)\n",
    "# #IDs = result\n",
    "# #IDs = np.arange(0,1000)\n",
    "\n",
    "# fit_cat = pipes.fit_catalogue(IDs, fit_instructions, load_data, spectrum_exists=False,\n",
    "#                               cat_filt_list=DECAM_filt_list, run=\"NSF_final\")\n",
    "\n",
    "\n",
    "# #test_mag_ es de 0 a 100 sin NB\n",
    "# fit_cat.fit(verbose=False)"
   ]
  },
  {
   "cell_type": "code",
   "execution_count": null,
   "metadata": {},
   "outputs": [],
   "source": [
    "# dat = Table.read('pipes/cats/NSF_z_random_500.fits')\n",
    "# dat"
   ]
  },
  {
   "cell_type": "code",
   "execution_count": null,
   "metadata": {},
   "outputs": [],
   "source": [
    "# plt.hist(dat['redshift_50'], bins =50, histtype ='bar', alpha = 0.5, color = 'slategray', bottom = 0,ec = 'k')\n",
    "# plt.vlines(0.47,0,100, linestyle ='dashed', alpha = 0.5)\n",
    "# plt.vlines(0.93,0,100, linestyle ='dashed', alpha = 0.5)\n",
    "# plt.vlines(1.59,0,100, linestyle ='dashed', alpha = 0.5)\n",
    "# plt.xlim(0,2)\n",
    "# plt.show()"
   ]
  },
  {
   "cell_type": "code",
   "execution_count": 19,
   "metadata": {},
   "outputs": [],
   "source": [
    "# mask = (dat['redshift_50'] < 0.48) & (dat['redshift_50'] > 0.46)"
   ]
  },
  {
   "cell_type": "code",
   "execution_count": 9,
   "metadata": {},
   "outputs": [],
   "source": [
    "# dat[mask]"
   ]
  },
  {
   "cell_type": "code",
   "execution_count": null,
   "metadata": {},
   "outputs": [],
   "source": []
  }
 ],
 "metadata": {
  "kernelspec": {
   "display_name": "Python 3",
   "language": "python",
   "name": "python3"
  },
  "language_info": {
   "codemirror_mode": {
    "name": "ipython",
    "version": 3
   },
   "file_extension": ".py",
   "mimetype": "text/x-python",
   "name": "python",
   "nbconvert_exporter": "python",
   "pygments_lexer": "ipython3",
   "version": "3.7.6"
  },
  "latex_envs": {
   "LaTeX_envs_menu_present": true,
   "autoclose": false,
   "autocomplete": true,
   "bibliofile": "biblio.bib",
   "cite_by": "apalike",
   "current_citInitial": 1,
   "eqLabelWithNumbers": true,
   "eqNumInitial": 1,
   "hotkeys": {
    "equation": "Ctrl-E",
    "itemize": "Ctrl-I"
   },
   "labels_anchors": false,
   "latex_user_defs": false,
   "report_style_numbering": false,
   "user_envs_cfg": false
  },
  "toc": {
   "base_numbering": 1,
   "nav_menu": {},
   "number_sections": true,
   "sideBar": true,
   "skip_h1_title": false,
   "title_cell": "Table of Contents",
   "title_sidebar": "Contents",
   "toc_cell": false,
   "toc_position": {
    "height": "calc(100% - 180px)",
    "left": "10px",
    "top": "150px",
    "width": "265px"
   },
   "toc_section_display": true,
   "toc_window_display": false
  }
 },
 "nbformat": 4,
 "nbformat_minor": 4
}
